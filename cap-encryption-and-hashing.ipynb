{
 "cells": [
  {
   "cell_type": "markdown",
   "id": "d4ee9e4b",
   "metadata": {},
   "source": [
    "***\n",
    "< [Home](https://github.com/SeanOhAileasa) | [README](https://github.com/SeanOhAileasa/cap-encryption-and-hashing/blob/main/README.md) >\n",
    "\n",
    "## CompTIA Cybersecurity Analyst (CySA+) - Course Material 2022\n",
    "###### Topic: ``Encryption and Hashing``\n",
    "***"
   ]
  },
  {
   "cell_type": "markdown",
   "id": "b82b07fb",
   "metadata": {},
   "source": [
    "Course material for the ``CompTIA Cybersecurity Analyst (CySA+)`` module of the ``ICT Associate Apprenticeship (Cybersecurity)`` programme."
   ]
  },
  {
   "cell_type": "markdown",
   "id": "e7228f57",
   "metadata": {},
   "source": [
    "<a id=\"top\"></a>\n",
    "***\n",
    "## Table of Contents\n",
    "***"
   ]
  },
  {
   "cell_type": "markdown",
   "id": "c2bb5e7b",
   "metadata": {},
   "source": [
    "### [Encryption and Hashing](#EncryptionandHashing) <br/><br/>\n",
    "<hr width=50%;>"
   ]
  },
  {
   "cell_type": "markdown",
   "id": "cd6f065a",
   "metadata": {},
   "source": [
    "### [PKI Hierarchy](#PKIHierarchy) <br/><br/>\n",
    "<hr width=50%;>"
   ]
  },
  {
   "cell_type": "markdown",
   "id": "183bb3fc",
   "metadata": {},
   "source": [
    "### [Cryptography](#Cryptography) <br/><br/>\n",
    "<hr width=50%;>"
   ]
  },
  {
   "cell_type": "markdown",
   "id": "a944cee4",
   "metadata": {},
   "source": [
    "### [Encrypting File System](#EncryptingFileSystem) <br/><br/>\n",
    "<hr width=50%;>"
   ]
  },
  {
   "cell_type": "markdown",
   "id": "15d2ccd7",
   "metadata": {},
   "source": [
    "### [BitLocker Encryption](#BitLockerEncryption) <br/><br/>\n",
    "<hr width=50%;>"
   ]
  },
  {
   "cell_type": "markdown",
   "id": "9d0f4f54",
   "metadata": {},
   "source": [
    "### [Linux Filesystem Encryption](#LinuxFilesystemEncryption) <br/><br/>\n",
    "<hr width=50%;>"
   ]
  },
  {
   "cell_type": "markdown",
   "id": "81cb5bff",
   "metadata": {},
   "source": [
    "### [Cloud Storage Encryption](#CloudStorageEncryption) <br/><br/>\n",
    "<hr width=50%;>"
   ]
  },
  {
   "cell_type": "markdown",
   "id": "d3a44c05",
   "metadata": {},
   "source": [
    "### [Hashing](#Hashing) <br/><br/>\n",
    "<hr width=50%;>"
   ]
  },
  {
   "cell_type": "markdown",
   "id": "9e943587",
   "metadata": {},
   "source": [
    "### [Windows File Hash Generation](#WindowsFileHashGeneration) <br/><br/>\n",
    "<hr width=50%;>"
   ]
  },
  {
   "cell_type": "markdown",
   "id": "ad15f8e8",
   "metadata": {},
   "source": [
    "### [Linux File Hash Generation](#LinuxFileHashGeneration) <br/><br/>\n",
    "<hr width=50%;>"
   ]
  },
  {
   "cell_type": "markdown",
   "id": "168831ee",
   "metadata": {},
   "source": [
    "### [Internet Download Hash Comparison](#InternetDownloadHashComparison) <br/><br/>\n",
    "<hr width=50%;>"
   ]
  },
  {
   "cell_type": "markdown",
   "id": "43028544",
   "metadata": {},
   "source": [
    "### [Certificate Lifecycle](#CertificateLifecycle) <br/><br/>\n",
    "<hr width=50%;>"
   ]
  },
  {
   "cell_type": "markdown",
   "id": "b575635b",
   "metadata": {},
   "source": [
    "### [SSL and TLS](#SSLandTLS) <br/><br/>\n",
    "<hr width=50%;>"
   ]
  },
  {
   "cell_type": "markdown",
   "id": "6aa9b80c",
   "metadata": {},
   "source": [
    "### [Disabling SSL](#DisablingSSL) <br/><br/>\n",
    "<hr width=50%;>"
   ]
  },
  {
   "cell_type": "markdown",
   "id": "adf2073b",
   "metadata": {},
   "source": [
    "### [Cloud Certificate Authority Deployment](#CloudCertificateAuthorityDeployment) <br/><br/>\n",
    "<hr width=50%;>"
   ]
  },
  {
   "cell_type": "markdown",
   "id": "799d0106",
   "metadata": {},
   "source": [
    "### [Cloud PKI Certificate Issuance](#CloudPKICertificateIssuance) <br/><br/>\n",
    "<hr width=50%;>"
   ]
  },
  {
   "cell_type": "markdown",
   "id": "898e359a",
   "metadata": {},
   "source": [
    "### [On-premises Certificate Authority Deployment](#OnpremisesCertificateAuthorityDeployment) <br/><br/>\n",
    "<hr width=50%;>"
   ]
  },
  {
   "cell_type": "markdown",
   "id": "e7305805",
   "metadata": {},
   "source": [
    "### [On-premises Certificate Templates](#OnpremisesCertificateTemplates) <br/><br/>\n",
    "<hr width=50%;>"
   ]
  },
  {
   "cell_type": "markdown",
   "id": "ca4d6c33",
   "metadata": {},
   "source": [
    "### [On-premises PKI Certificate Issuance](#OnpremisesPKICertificateIssuance) <br/><br/>\n",
    "<hr width=50%;>"
   ]
  },
  {
   "cell_type": "markdown",
   "id": "b51c682a",
   "metadata": {},
   "source": [
    "### [HTTPS On-premises Web Site](#HTTPSOnpremisesWebSite) <br/><br/>\n",
    "<hr width=50%;>"
   ]
  },
  {
   "cell_type": "markdown",
   "id": "5fde4215",
   "metadata": {},
   "source": [
    "### [Course Summary](#CourseSummary) <br/><br/>\n",
    "<hr width=50%;>"
   ]
  },
  {
   "cell_type": "markdown",
   "id": "bf2b95e2",
   "metadata": {},
   "source": [
    "***\n",
    "## END"
   ]
  },
  {
   "cell_type": "markdown",
   "id": "34aa6eb5",
   "metadata": {},
   "source": [
    "< [Table of Contents](#top) | [References](#references) >\n",
    "<a id=\"EncryptionandHashing\"></a>\n",
    "***\n",
    "### Encryption and Hashing\n",
    "***"
   ]
  },
  {
   "cell_type": "markdown",
   "id": "1bf34ccc",
   "metadata": {},
   "source": [
    "Cryptographers far from enemy lines have long helped win shooting wars by cracking enemy codes—and in the new world of cyber warfare, cryptography has become the first line of defense for hundreds of millions of civilians worldwide. In this 21-video course, you will learn just how cryptography and encryption protect sensitive data, both in transit and at rest. Learners are given important information about public key infrastructure (PKI) hierarchy and lifecycles; protection in UFS (Ultra Flash Storage) and Bitlocker; and on Linux and cloud storage. Learn about the hashing process, including how to generate file hashes for Linux and Windows. Then learn about using SSL (secure sockets layer) and TLS (Transport Layer Security) to secure network traffic, cloud certificate authority (CA) deployment, and certificate issuance. Next, learn how to configure custom encryption keys for cloud storage and how to configure a Microsoft IIS web site with a PKI certificate. The course helps to prepare learners for CompTIA+ Cybersecurity Analyst+ (CySA+) CS0-002 certification exam."
   ]
  },
  {
   "cell_type": "markdown",
   "id": "173e78b5",
   "metadata": {},
   "source": [
    "Objectives\n",
    "\n",
    "- discover the key concepts covered in this course <br/><br/>\n",
    "- list the components of a PKI hierarchy <br/><br/>\n",
    "- define how cryptography protects sensitive data <br/><br/>\n",
    "- protect data at rest using EFS <br/><br/>\n",
    "- protect data at rest using BitLocker <br/><br/>\n",
    "- protect data at rest on a Linux system <br/><br/>\n",
    "- configure custom encryption keys for cloud storage <br/><br/>\n",
    "- recognize the importance of hashing for file systems and network communications <br/><br/>\n",
    "- generate file hashes on a Windows system <br/><br/>\n",
    "- generate file hashes on a Linux system <br/><br/>\n",
    "- download and verify a checksum for Kali Linux <br/><br/>\n",
    "- identify the steps in the PKI certificate lifecycle <br/><br/>\n",
    "- recognize how SSL and TLS are used to secure network traffic <br/><br/>\n",
    "- disable SSL on web clients and servers <br/><br/>\n",
    "- deploy a private CA using Amazon Web Services <br/><br/>\n",
    "- generate a server certificate from an Amazon Web Services private CA <br/><br/>\n",
    "- deploy a private CA using Microsoft Certificate Services <br/><br/>\n",
    "- configure a Microsoft Certificate Services template <br/><br/>\n",
    "- generate a server certificate from a private CA <br/><br/>\n",
    "- configure a Microsoft IIS web site with a PKI certificate <br/><br/>\n",
    "- summarize the key concepts covered in this course <br/><br/>"
   ]
  },
  {
   "cell_type": "markdown",
   "id": "84b00380",
   "metadata": {},
   "source": [
    "< [Table of Contents](#top) | [References](#references) >\n",
    "<a id=\"PKIHierarchy\"></a>\n",
    "***\n",
    "### PKI Hierarchy\n",
    "***"
   ]
  },
  {
   "cell_type": "markdown",
   "id": "d82d85d7",
   "metadata": {},
   "source": []
  },
  {
   "cell_type": "markdown",
   "id": "b4da2efe",
   "metadata": {},
   "source": [
    "< [Table of Contents](#top) | [References](#references) >\n",
    "<a id=\"Cryptography\"></a>\n",
    "***\n",
    "### Cryptography\n",
    "***"
   ]
  },
  {
   "cell_type": "markdown",
   "id": "70f6e846",
   "metadata": {},
   "source": []
  },
  {
   "cell_type": "markdown",
   "id": "7b10c3a2",
   "metadata": {},
   "source": [
    "< [Table of Contents](#top) | [References](#references) >\n",
    "<a id=\"EncryptingFileSystem\"></a>\n",
    "***\n",
    "### Encrypting File System\n",
    "***"
   ]
  },
  {
   "cell_type": "markdown",
   "id": "2cc18496",
   "metadata": {},
   "source": []
  },
  {
   "cell_type": "markdown",
   "id": "1ce9ff85",
   "metadata": {},
   "source": [
    "< [Table of Contents](#top) | [References](#references) >\n",
    "<a id=\"BitLockerEncryption\"></a>\n",
    "***\n",
    "### BitLocker Encryption\n",
    "***"
   ]
  },
  {
   "cell_type": "markdown",
   "id": "8bb9c616",
   "metadata": {},
   "source": []
  },
  {
   "cell_type": "markdown",
   "id": "d87809fd",
   "metadata": {},
   "source": [
    "< [Table of Contents](#top) | [References](#references) >\n",
    "<a id=\"LinuxFilesystemEncryption\"></a>\n",
    "***\n",
    "### Linux Filesystem Encryption\n",
    "***"
   ]
  },
  {
   "cell_type": "markdown",
   "id": "f0a909b6",
   "metadata": {},
   "source": []
  },
  {
   "cell_type": "markdown",
   "id": "c781a700",
   "metadata": {},
   "source": [
    "< [Table of Contents](#top) | [References](#references) >\n",
    "<a id=\"CloudStorageEncryption\"></a>\n",
    "***\n",
    "### Cloud Storage Encryption\n",
    "***"
   ]
  },
  {
   "cell_type": "markdown",
   "id": "cd41c08d",
   "metadata": {},
   "source": []
  },
  {
   "cell_type": "markdown",
   "id": "1256d7bf",
   "metadata": {},
   "source": [
    "< [Table of Contents](#top) | [References](#references) >\n",
    "<a id=\"Hashing\"></a>\n",
    "***\n",
    "### Hashing\n",
    "***"
   ]
  },
  {
   "cell_type": "markdown",
   "id": "3ab13be8",
   "metadata": {},
   "source": []
  },
  {
   "cell_type": "markdown",
   "id": "47707114",
   "metadata": {},
   "source": [
    "< [Table of Contents](#top) | [References](#references) >\n",
    "<a id=\"WindowsFileHashGeneration\"></a>\n",
    "***\n",
    "### Windows File Hash Generation\n",
    "***"
   ]
  },
  {
   "cell_type": "markdown",
   "id": "5c5eb4ce",
   "metadata": {},
   "source": []
  },
  {
   "cell_type": "markdown",
   "id": "9adeceaf",
   "metadata": {},
   "source": [
    "< [Table of Contents](#top) | [References](#references) >\n",
    "<a id=\"LinuxFileHashGeneration\"></a>\n",
    "***\n",
    "### Linux File Hash Generation\n",
    "***"
   ]
  },
  {
   "cell_type": "markdown",
   "id": "45d2f914",
   "metadata": {},
   "source": []
  },
  {
   "cell_type": "markdown",
   "id": "fd680b58",
   "metadata": {},
   "source": [
    "< [Table of Contents](#top) | [References](#references) >\n",
    "<a id=\"InternetDownloadHashComparison\"></a>\n",
    "***\n",
    "### Internet Download Hash Comparison\n",
    "***"
   ]
  },
  {
   "cell_type": "markdown",
   "id": "86a67316",
   "metadata": {},
   "source": []
  },
  {
   "cell_type": "markdown",
   "id": "d438e44b",
   "metadata": {},
   "source": [
    "< [Table of Contents](#top) | [References](#references) >\n",
    "<a id=\"CertificateLifecycle\"></a>\n",
    "***\n",
    "### Certificate Lifecycle\n",
    "***"
   ]
  },
  {
   "cell_type": "markdown",
   "id": "6779b825",
   "metadata": {},
   "source": []
  },
  {
   "cell_type": "markdown",
   "id": "bd89bb21",
   "metadata": {},
   "source": [
    "< [Table of Contents](#top) | [References](#references) >\n",
    "<a id=\"SSLandTLS\"></a>\n",
    "***\n",
    "### SSL and TLS\n",
    "***"
   ]
  },
  {
   "cell_type": "markdown",
   "id": "c9f42d31",
   "metadata": {},
   "source": []
  },
  {
   "cell_type": "markdown",
   "id": "88de3841",
   "metadata": {},
   "source": [
    "< [Table of Contents](#top) | [References](#references) >\n",
    "<a id=\"DisablingSSL\"></a>\n",
    "***\n",
    "### Disabling SSL\n",
    "***"
   ]
  },
  {
   "cell_type": "markdown",
   "id": "d78a1e66",
   "metadata": {},
   "source": []
  },
  {
   "cell_type": "markdown",
   "id": "cd59431a",
   "metadata": {},
   "source": [
    "< [Table of Contents](#top) | [References](#references) >\n",
    "<a id=\"CloudCertificateAuthorityDeployment\"></a>\n",
    "***\n",
    "### Cloud Certificate Authority Deployment\n",
    "***"
   ]
  },
  {
   "cell_type": "markdown",
   "id": "5e3ec43a",
   "metadata": {},
   "source": []
  },
  {
   "cell_type": "markdown",
   "id": "efe79722",
   "metadata": {},
   "source": [
    "< [Table of Contents](#top) | [References](#references) >\n",
    "<a id=\"CloudPKICertificateIssuance\"></a>\n",
    "***\n",
    "### Cloud PKI Certificate Issuance\n",
    "***"
   ]
  },
  {
   "cell_type": "markdown",
   "id": "8bbc0df5",
   "metadata": {},
   "source": []
  },
  {
   "cell_type": "markdown",
   "id": "8fb4c7ed",
   "metadata": {},
   "source": [
    "< [Table of Contents](#top) | [References](#references) >\n",
    "<a id=\"OnpremisesCertificateAuthorityDeployment\"></a>\n",
    "***\n",
    "### On-premises Certificate Authority Deployment\n",
    "***"
   ]
  },
  {
   "cell_type": "markdown",
   "id": "064391e1",
   "metadata": {},
   "source": []
  },
  {
   "cell_type": "markdown",
   "id": "ce0125d9",
   "metadata": {},
   "source": [
    "< [Table of Contents](#top) | [References](#references) >\n",
    "<a id=\"OnpremisesCertificateTemplates\"></a>\n",
    "***\n",
    "### On-premises Certificate Templates\n",
    "***"
   ]
  },
  {
   "cell_type": "markdown",
   "id": "ec965891",
   "metadata": {},
   "source": []
  },
  {
   "cell_type": "markdown",
   "id": "558094e4",
   "metadata": {},
   "source": [
    "< [Table of Contents](#top) | [References](#references) >\n",
    "<a id=\"OnpremisesPKICertificateIssuance\"></a>\n",
    "***\n",
    "### On-premises PKI CertificateIssuance\n",
    "***"
   ]
  },
  {
   "cell_type": "markdown",
   "id": "f6aeb674",
   "metadata": {},
   "source": []
  },
  {
   "cell_type": "markdown",
   "id": "e7938aca",
   "metadata": {},
   "source": [
    "< [Table of Contents](#top) | [References](#references) >\n",
    "<a id=\"HTTPSOnpremisesWebSite\"></a>\n",
    "***\n",
    "### HTTPS On-premises Web Site\n",
    "***"
   ]
  },
  {
   "cell_type": "markdown",
   "id": "77ecc454",
   "metadata": {},
   "source": [
    "< [Table of Contents](#top) | [References](#references) >\n",
    "<a id=\"CourseSummary\"></a>\n",
    "***\n",
    "### Course Summary\n",
    "***"
   ]
  },
  {
   "cell_type": "markdown",
   "id": "d0d46058",
   "metadata": {},
   "source": []
  },
  {
   "cell_type": "markdown",
   "id": "2cc20932",
   "metadata": {},
   "source": [
    "***\n",
    "## END"
   ]
  },
  {
   "cell_type": "markdown",
   "id": "e0e42d51",
   "metadata": {},
   "source": [
    "< [Table of Contents](#top) >\n",
    "<a id=\"references\"></a>\n",
    "***\n",
    "## References\n",
    "***"
   ]
  },
  {
   "cell_type": "markdown",
   "id": "757bf6de",
   "metadata": {},
   "source": [
    "&nbsp;&nbsp;&nbsp;&nbsp;&nbsp;&nbsp;&nbsp;&nbsp;&nbsp;skillsoft, \"Encryption and Hashing,\" [skillsoft.com](https://web.archive.org/web/20220403100053/https://www.skillsoft.com/), n.d.."
   ]
  },
  {
   "cell_type": "markdown",
   "id": "b33c372a",
   "metadata": {},
   "source": [
    "***\n",
    "## END"
   ]
  },
  {
   "cell_type": "markdown",
   "id": "e5961b4d",
   "metadata": {},
   "source": [
    "< [Table of Contents](#top) | [References](#references) >\n",
    "<a id=\"appendix\"></a>\n",
    "***\n",
    "## Appendix\n",
    "***"
   ]
  },
  {
   "cell_type": "markdown",
   "id": "00d82a82",
   "metadata": {},
   "source": [
    "***\n",
    "## END"
   ]
  },
  {
   "cell_type": "code",
   "execution_count": 1,
   "id": "706756a2",
   "metadata": {},
   "outputs": [
    {
     "data": {
      "text/html": [
       "<style>.container { width:100% !important; }</style>"
      ],
      "text/plain": [
       "<IPython.core.display.HTML object>"
      ]
     },
     "metadata": {},
     "output_type": "display_data"
    }
   ],
   "source": [
    "from IPython.core.display import display,HTML\n",
    "display(HTML(\"<style>.container { width:100% !important; }</style>\"))"
   ]
  },
  {
   "cell_type": "markdown",
   "id": "899c1783",
   "metadata": {},
   "source": [
    "# END JUPYTER NOTEBOOK"
   ]
  }
 ],
 "metadata": {
  "kernelspec": {
   "display_name": "Python 3",
   "language": "python",
   "name": "python3"
  },
  "language_info": {
   "codemirror_mode": {
    "name": "ipython",
    "version": 3
   },
   "file_extension": ".py",
   "mimetype": "text/x-python",
   "name": "python",
   "nbconvert_exporter": "python",
   "pygments_lexer": "ipython3",
   "version": "3.8.8"
  }
 },
 "nbformat": 4,
 "nbformat_minor": 5
}
